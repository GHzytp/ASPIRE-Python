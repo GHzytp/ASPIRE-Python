{
  "cells": [
    {
      "cell_type": "markdown",
      "metadata": {},
      "source": [
        "\n# Abinitio Pipeline - Experimental Data Empiar 10073\n\nThis notebook introduces a selection of\ncomponents corresponding to loading real Relion picked\nparticle cryo-EM data and running key ASPIRE-Python\nAbinitio model components as a pipeline.\n\nThis demonstrates using the Global BandedSNRImageQualityFunction\napproach starting with Relion polished picked particles.\n\nSpecifically this pipeline uses the\nEMPIAR 10073 picked particles data, available here:\n\nhttps://www.ebi.ac.uk/empiar/EMPIAR-10073\n\nhttps://www.ebi.ac.uk/emdb/EMD-8012\n"
      ]
    },
    {
      "cell_type": "markdown",
      "metadata": {},
      "source": [
        "## Imports\nFirst import some of the usual suspects.\nIn addition, import some classes from\nthe ASPIRE package that will be used throughout this experiment.\n\n"
      ]
    },
    {
      "cell_type": "code",
      "execution_count": null,
      "metadata": {
        "collapsed": false
      },
      "outputs": [],
      "source": [
        "import logging\nfrom pathlib import Path\n\nimport numpy as np\n\nfrom aspire.abinitio import CLSyncVoting\nfrom aspire.basis import FFBBasis2D, FFBBasis3D\nfrom aspire.classification import (\n    BandedSNRImageQualityFunction,\n    BFRAverager2D,\n    GlobalWithRepulsionClassSelector,\n    RIRClass2D,\n)\nfrom aspire.denoising import ClassAvgSource\nfrom aspire.reconstruction import MeanEstimator\nfrom aspire.source import RelionSource\n\nlogger = logging.getLogger(__name__)"
      ]
    },
    {
      "cell_type": "markdown",
      "metadata": {},
      "source": [
        "## Parameters\nExample simulation configuration.\n\n"
      ]
    },
    {
      "cell_type": "code",
      "execution_count": null,
      "metadata": {
        "collapsed": false
      },
      "outputs": [],
      "source": [
        "n_imgs = None  # Set to None for all images in starfile, can set smaller for tests.\nimg_size = 32  # Downsample the images/reconstruction to a desired resolution\nn_classes = 2000  # How many class averages to compute.\nn_nbor = 50  # How many neighbors to stack\nstarfile_in = \"10073/data/shiny_correctpaths_cleanedcorruptstacks.star\"\ndata_folder = \".\"  # This depends on the specific starfile entries.\nvolume_output_filename = f\"10073_abinitio_c{n_classes}_m{n_nbor}_{img_size}.mrc\"\npixel_size = 1.43"
      ]
    },
    {
      "cell_type": "markdown",
      "metadata": {},
      "source": [
        "## Source data and Preprocessing\n\n`RelionSource` is used to access the experimental data via a `starfile`.\nBegin by downsampling to our chosen resolution, then preprocess\nto correct for CTF and noise.\n\n"
      ]
    },
    {
      "cell_type": "code",
      "execution_count": null,
      "metadata": {
        "collapsed": false
      },
      "outputs": [],
      "source": [
        "# Create a source object for the experimental images\nsrc = RelionSource(\n    starfile_in, pixel_size=pixel_size, max_rows=n_imgs, data_folder=data_folder\n)\n\n# Downsample the images\nlogger.info(f\"Set the resolution to {img_size} X {img_size}\")\nsrc = src.downsample(img_size)\n\nsrc = src.cache()"
      ]
    },
    {
      "cell_type": "markdown",
      "metadata": {},
      "source": [
        "## Class Averaging\n\nNow perform classification and averaging for each class.\n\n"
      ]
    },
    {
      "cell_type": "code",
      "execution_count": null,
      "metadata": {
        "collapsed": false
      },
      "outputs": [],
      "source": [
        "logger.info(\"Begin Class Averaging\")\n\n# Now perform classification and averaging for each class.\n# This also demonstrates customizing a ClassAvgSource, by using global\n# contrast selection.  This computes the entire set of class averages,\n# and sorts them by (highest) contrast.\n\n# Build up the customized components.\nbasis = FFBBasis2D(src.L, dtype=src.dtype)\nclassifier = RIRClass2D(src, n_nbor=n_nbor, nn_implementation=\"sklearn\")\naverager = BFRAverager2D(basis, src, num_procs=16)\nquality_function = BandedSNRImageQualityFunction()\nclass_selector = GlobalWithRepulsionClassSelector(averager, quality_function)\n\n# Assemble the components into the Source.\navgs = ClassAvgSource(\n    src, classifier=classifier, averager=averager, class_selector=class_selector\n)\n\n# Save out the resulting Nearest Neighbor networks arrays.\nnp.savez(\n    \"experimental_10073_class_averages_class_indices.npz\",\n    class_indices=avgs.class_indices,\n    class_refl=avgs.class_refl,\n    class_distances=avgs.class_distances,\n)\n\n# Save the class selection rankings.\nnp.save(\n    \"experimental_10073_class_averages_selection_indices.npy\",\n    avgs.selection_indices,\n)\n\n# We'll continue our pipeline with the first `n_classes` from `avgs`.\navgs = avgs[:n_classes]\n\n# Save off the set of class average images.\navgs.save(\"experimental_10073_class_averages_global.star\", overwrite=True)"
      ]
    },
    {
      "cell_type": "markdown",
      "metadata": {},
      "source": [
        "## Common Line Estimation\n\nNext create a CL instance for estimating orientation of projections\nusing the Common Line with Synchronization Voting method.\n\n"
      ]
    },
    {
      "cell_type": "code",
      "execution_count": null,
      "metadata": {
        "collapsed": false
      },
      "outputs": [],
      "source": [
        "logger.info(\"Begin Orientation Estimation\")\n\n# Run orientation estimation on ``avgs``.\norient_est = CLSyncVoting(avgs, n_theta=72)\n# Get the estimated rotations\norient_est.estimate_rotations()\nrots_est = orient_est.rotations"
      ]
    },
    {
      "cell_type": "markdown",
      "metadata": {},
      "source": [
        "## Volume Reconstruction\n\nUsing the estimated rotations, attempt to reconstruct a volume.\n\n"
      ]
    },
    {
      "cell_type": "code",
      "execution_count": null,
      "metadata": {
        "collapsed": false
      },
      "outputs": [],
      "source": [
        "logger.info(\"Begin Volume reconstruction\")\n\n# Assign the estimated rotations to the class averages\navgs = avgs.update(rotations=rots_est)\n\n# Create a reasonable Basis for the 3d Volume\nbasis = FFBBasis3D((img_size,) * 3, dtype=src.dtype)\n\n# Setup an estimator to perform the back projection.\nestimator = MeanEstimator(avgs, basis)\n\n# Perform the estimation and save the volume.\nestimated_volume = estimator.estimate()\nestimated_volume.save(volume_output_filename, overwrite=True)\nlogger.info(f\"Saved Volume to {str(Path(volume_output_filename).resolve())}\")"
      ]
    }
  ],
  "metadata": {
    "kernelspec": {
      "display_name": "Python 3",
      "language": "python",
      "name": "python3"
    },
    "language_info": {
      "codemirror_mode": {
        "name": "ipython",
        "version": 3
      },
      "file_extension": ".py",
      "mimetype": "text/x-python",
      "name": "python",
      "nbconvert_exporter": "python",
      "pygments_lexer": "ipython3",
      "version": "3.8.17"
    }
  },
  "nbformat": 4,
  "nbformat_minor": 0
}