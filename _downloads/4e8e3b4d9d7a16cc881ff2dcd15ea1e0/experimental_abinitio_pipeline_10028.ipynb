{
  "cells": [
    {
      "cell_type": "markdown",
      "metadata": {},
      "source": [
        "\n# Abinitio Pipeline - Experimental Data Empiar 10028\n\nThis notebook introduces a selection of\ncomponents corresponding to loading real Relion picked\nparticle cryo-EM data and running key ASPIRE-Python\nAbinitio model components as a pipeline.\n\nSpecifically this pipeline uses the\nEMPIAR 10028 picked particles data, available here:\n\nhttps://www.ebi.ac.uk/empiar/EMPIAR-10028\n\nhttps://www.ebi.ac.uk/emdb/EMD-2660\n"
      ]
    },
    {
      "cell_type": "markdown",
      "metadata": {},
      "source": [
        "## Imports\nFirst import some of the usual suspects.\nIn addition, import some classes from\nthe ASPIRE package that will be used throughout this experiment.\n\n"
      ]
    },
    {
      "cell_type": "code",
      "execution_count": null,
      "metadata": {
        "collapsed": false
      },
      "outputs": [],
      "source": [
        "import logging\nfrom pathlib import Path\n\nimport matplotlib.pyplot as plt\nimport numpy as np\n\nfrom aspire.abinitio import CLSyncVoting\nfrom aspire.basis import FFBBasis3D\nfrom aspire.denoising import DefaultClassAvgSource, DenoiserCov2D\nfrom aspire.noise import AnisotropicNoiseEstimator\nfrom aspire.reconstruction import MeanEstimator\nfrom aspire.source import RelionSource\n\nlogger = logging.getLogger(__name__)"
      ]
    },
    {
      "cell_type": "markdown",
      "metadata": {},
      "source": [
        "## Parameters\nExample simulation configuration.\n\n"
      ]
    },
    {
      "cell_type": "code",
      "execution_count": null,
      "metadata": {
        "collapsed": false
      },
      "outputs": [],
      "source": [
        "interactive = False  # Draw blocking interactive plots?\ndo_cov2d = True  # Use CWF coefficients\nn_imgs = None  # Set to None for all images in starfile, can set smaller for tests.\nimg_size = 32  # Downsample the images/reconstruction to a desired resolution\nn_classes = 2000  # How many class averages to compute.\nn_nbor = 100  # How many neighbors to stack\nstarfile_in = \"10028/data/shiny_2sets_fixed9.star\"\ndata_folder = \".\"  # This depends on the specific starfile entries.\nvolume_output_filename = f\"10028_abinitio_c{n_classes}_m{n_nbor}_{img_size}.mrc\"\npixel_size = 1.34"
      ]
    },
    {
      "cell_type": "markdown",
      "metadata": {},
      "source": [
        "## Source data and Preprocessing\n\n`RelionSource` is used to access the experimental data via a `starfile`.\nBegin by downsampling to our chosen resolution, then preprocess\nto correct for CTF and noise.\n\n"
      ]
    },
    {
      "cell_type": "code",
      "execution_count": null,
      "metadata": {
        "collapsed": false
      },
      "outputs": [],
      "source": [
        "# Create a source object for the experimental images\nsrc = RelionSource(\n    starfile_in, pixel_size=pixel_size, max_rows=n_imgs, data_folder=data_folder\n)\n\n# Downsample the images\nlogger.info(f\"Set the resolution to {img_size} X {img_size}\")\nsrc = src.downsample(img_size)\n\n# Peek\nif interactive:\n    src.images[:10].show()\n\n# Use phase_flip to attempt correcting for CTF.\nlogger.info(\"Perform phase flip to input images.\")\nsrc = src.phase_flip()\n\n# Estimate the noise and `Whiten` based on the estimated noise\naiso_noise_estimator = AnisotropicNoiseEstimator(src)\nsrc = src.whiten(aiso_noise_estimator)\n\n# Plot the noise profile for inspection\nif interactive:\n    plt.imshow(aiso_noise_estimator.filter.evaluate_grid(img_size))\n    plt.show()\n\n# Peek, what do the whitened images look like...\nif interactive:\n    src.images[:10].show()\n\n# # Optionally invert image contrast, depends on data convention.\n# # This is not needed for 10028, but included anyway.\n# logger.info(\"Invert the global density contrast\")\n# src = src.invert_contrast()\n\n# Caching is used for speeding up large datasets on high memory machines.\nsrc = src.cache()"
      ]
    },
    {
      "cell_type": "markdown",
      "metadata": {},
      "source": [
        "## Optional: CWF Denoising\n\nOptionally generate an alternative source that is denoised with `cov2d`,\nthen configure a customized averager. This allows the use of CWF denoised\nimages for classification, but stacks the original images for averages\nused in the remainder of the reconstruction pipeline.\n\nIn this example, this behavior is controlled by the `do_cov2d` boolean variable.\nWhen disabled, the original src and default averager is used.\nIf you will not be using cov2d,\nyou may remove this code block and associated variables.\n\n"
      ]
    },
    {
      "cell_type": "code",
      "execution_count": null,
      "metadata": {
        "collapsed": false
      },
      "outputs": [],
      "source": [
        "classification_src = src\ncustom_averager = None\nif do_cov2d:\n    # Use CWF denoising\n    cwf_denoiser = DenoiserCov2D(src)\n    # Use denoised src for classification\n    classification_src = cwf_denoiser.denoise()\n    # Cache for speedup.  Avoids recomputing.\n    classification_src = classification_src.cache()\n    # Peek, what do the denoised images look like...\n    if interactive:\n        classification_src.images[:10].show()"
      ]
    },
    {
      "cell_type": "markdown",
      "metadata": {},
      "source": [
        "## Class Averaging\n\nNow perform classification and averaging for each class.\n\n"
      ]
    },
    {
      "cell_type": "code",
      "execution_count": null,
      "metadata": {
        "collapsed": false
      },
      "outputs": [],
      "source": [
        "logger.info(\"Begin Class Averaging\")\n\n# Now perform classification and averaging for each class.\n# This also demonstrates the potential to use a different source for classification and averaging.\n\navgs = DefaultClassAvgSource(\n    classification_src,\n    n_nbor=n_nbor,\n    averager_src=src,\n    num_procs=None,  # Automatically configure parallel processing\n)\n# We'll continue our pipeline with the first `n_classes` from `avgs`.\navgs = avgs[:n_classes]\n\n# Save off the set of class average images.\navgs.save(\"experimental_10028_class_averages.star\", overwrite=True)\n\nif interactive:\n    avgs.images[:10].show()"
      ]
    },
    {
      "cell_type": "markdown",
      "metadata": {},
      "source": [
        "## Common Line Estimation\n\nNext create a CL instance for estimating orientation of projections\nusing the Common Line with Synchronization Voting method.\n\n"
      ]
    },
    {
      "cell_type": "code",
      "execution_count": null,
      "metadata": {
        "collapsed": false
      },
      "outputs": [],
      "source": [
        "logger.info(\"Begin Orientation Estimation\")\n\n# Run orientation estimation on ``avgs``.\norient_est = CLSyncVoting(avgs, n_theta=72)\n# Get the estimated rotations\norient_est.estimate_rotations()\nrots_est = orient_est.rotations"
      ]
    },
    {
      "cell_type": "markdown",
      "metadata": {},
      "source": [
        "## Volume Reconstruction\n\nUsing the estimated rotations, attempt to reconstruct a volume.\n\n"
      ]
    },
    {
      "cell_type": "code",
      "execution_count": null,
      "metadata": {
        "collapsed": false
      },
      "outputs": [],
      "source": [
        "logger.info(\"Begin Volume reconstruction\")\n\n# Assign the estimated rotations to the class averages\navgs = avgs.update(rotations=rots_est)\n\n# Create a reasonable Basis for the 3d Volume\nbasis = FFBBasis3D((img_size,) * 3, dtype=src.dtype)\n\n# Setup an estimator to perform the back projection.\nestimator = MeanEstimator(avgs, basis)\n\n# Perform the estimation and save the volume.\nestimated_volume = estimator.estimate()\nestimated_volume.save(volume_output_filename, overwrite=True)\nlogger.info(f\"Saved Volume to {str(Path(volume_output_filename).resolve())}\")\n\n# Peek at result\nif interactive:\n    plt.imshow(np.sum(estimated_volume.asnumpy()[0], axis=-1))\n    plt.show()"
      ]
    }
  ],
  "metadata": {
    "kernelspec": {
      "display_name": "Python 3",
      "language": "python",
      "name": "python3"
    },
    "language_info": {
      "codemirror_mode": {
        "name": "ipython",
        "version": 3
      },
      "file_extension": ".py",
      "mimetype": "text/x-python",
      "name": "python",
      "nbconvert_exporter": "python",
      "pygments_lexer": "ipython3",
      "version": "3.8.17"
    }
  },
  "nbformat": 4,
  "nbformat_minor": 0
}